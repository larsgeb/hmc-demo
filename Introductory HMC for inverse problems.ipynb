{
 "cells": [
  {
   "cell_type": "markdown",
   "metadata": {},
   "source": [
    "# Hamiltonian Monte Carlo for inverse problems"
   ]
  },
  {
   "cell_type": "code",
   "execution_count": 229,
   "metadata": {},
   "outputs": [],
   "source": [
    "import numpy as np\n",
    "import matplotlib.pyplot as plt\n",
    "import tqdm"
   ]
  },
  {
   "cell_type": "markdown",
   "metadata": {},
   "source": [
    "## The base sampler"
   ]
  },
  {
   "cell_type": "code",
   "execution_count": 230,
   "metadata": {},
   "outputs": [],
   "source": [
    "def sample(target, initialModel, nt, dt, ns, mass_matrix):\n",
    "    \n",
    "    # Make sure the initial model is a column vector\n",
    "    assert initialModel.shape == (initialModel.size, 1)\n",
    "\n",
    "    # Create samples object. This is a lot faster than appending \n",
    "    # to a list, as all the memory is requested in one go. One \n",
    "    # Additional dimension is allocated for the misfits of every\n",
    "    # model.\n",
    "    samples = np.empty((initialModel.size + 1, ns))\n",
    "\n",
    "    m = np.copy(initialModel)\n",
    "    accepted = 0\n",
    "    \n",
    "    # Invert the mass matrix to accelerate computing. This might not always \n",
    "    # be possible for large laplacian-like mass matrices. In such cases\n",
    "    # sparse solves in  every leapfrog iteration are preferred.\n",
    "    inv_mass = np.linalg.inv(mass_matrix)\n",
    "    \n",
    "    # Start sampling\n",
    "    for i_sample in tqdm.trange(ns):\n",
    "\n",
    "        # Propose momentum\n",
    "        p = np.random.multivariate_normal(np.zeros((m.size,)), mass_matrix, 1).T\n",
    "\n",
    "        # Randomize integration parameters a little\n",
    "        nt_local = int(np.random.uniform(low=0.5, high=1.5, size=None) * nt)\n",
    "        dt_local = np.random.uniform(low=0.5, high=1.5, size=None) * dt\n",
    "\n",
    "        # Compute the initial misfit, kinetic energy and Hamiltonian\n",
    "        X = target.misfit(m)\n",
    "        K = 0.5 * (p.T @ (np.linalg.inv(mass_matrix) @ p)).item()\n",
    "        H = K + X\n",
    "\n",
    "        # Create the new state as a copy\n",
    "        m_new = np.copy(m)\n",
    "        p_new = np.copy(p)\n",
    "\n",
    "        # And start integrating the new state!\n",
    "        p_new -= (dt_local / 2.0) * target.grad(m_new)\n",
    "        for i in range(nt_local - 1):\n",
    "            m_new += dt_local * inv_mass @ p_new\n",
    "            p_new -= dt_local * target.grad(m_new)\n",
    "        m_new += dt_local * inv_mass @ p_new\n",
    "        p_new -= (dt_local / 2.0) * target.grad(m_new)\n",
    "\n",
    "        # Compute the new misfit, kinetic energy and Hamiltonian\n",
    "        X_new = target.misfit(m_new)\n",
    "        K_new = 0.5 * (p_new.T @ inv_mass @ p_new).item()\n",
    "        H_new = K_new + X_new\n",
    "\n",
    "        # Accept if statistically relevant\n",
    "        if np.exp(H - H_new) > np.random.uniform(low=0.0, high=1.0, size=None):\n",
    "            m = np.copy(m_new)\n",
    "            p = np.copy(p_new)\n",
    "            # Reusing would allow us to skip the computation of X at the beginning \n",
    "            # of the loop, very useful for expensive problems. Additionally, we could \n",
    "            # save the last gradient to save even more computation time, which I do \n",
    "            # in my FWI work.\n",
    "            X = X_new \n",
    "            accepted += 1\n",
    "\n",
    "        # Add the new sample to the current sample. If the proposal was rejected,\n",
    "        # we add the previous sample again.\n",
    "        samples[:-1, i_sample] = m[:, 0]\n",
    "        samples[-1, i_sample] = X\n",
    "\n",
    "    print(\"%i accepted\" % accepted)\n",
    "    return samples"
   ]
  },
  {
   "cell_type": "markdown",
   "metadata": {},
   "source": [
    "## Sampling a 5D multivariate normal"
   ]
  },
  {
   "cell_type": "code",
   "execution_count": 231,
   "metadata": {},
   "outputs": [],
   "source": [
    "class target_mulitvariate_normal:\n",
    "    def __init__(self, means=None, cov=None, dim=2):\n",
    "\n",
    "        # Set mean\n",
    "        if means is None:\n",
    "            self.means = np.zeros((dim, 1))\n",
    "        else:\n",
    "            self.means = means\n",
    "\n",
    "        # Set covariance\n",
    "        if cov is None:\n",
    "            self.cov = np.eye(dim)\n",
    "            self.inv_cov = self.cov\n",
    "        else:\n",
    "            self.cov = cov\n",
    "            self.inv_cov = np.linalg.inv(cov)\n",
    "\n",
    "        # Make sure the dimensions are compatible\n",
    "        assert self.cov.shape[0] == self.means.size\n",
    "\n",
    "    def misfit(self, m):\n",
    "\n",
    "        assert m.shape == self.means.shape\n",
    "\n",
    "        dm = m - self.means\n",
    "\n",
    "        return 0.5 * (dm.T @ (self.inv_cov @ dm)).item()\n",
    "\n",
    "    def grad(self, m):\n",
    "\n",
    "        assert m.shape == self.means.shape\n",
    "\n",
    "        dm = m - self.means\n",
    "\n",
    "        return self.inv_cov @ dm"
   ]
  },
  {
   "cell_type": "code",
   "execution_count": 232,
   "metadata": {},
   "outputs": [
    {
     "data": {
      "text/plain": [
       "<matplotlib.colorbar.Colorbar at 0x7fe1972041d0>"
      ]
     },
     "execution_count": 232,
     "metadata": {},
     "output_type": "execute_result"
    },
    {
     "data": {
      "image/png": "[encoded data removed]",
      "text/plain": [
       "<Figure size 432x288 with 2 Axes>"
      ]
     },
     "metadata": {
      "needs_background": "light"
     },
     "output_type": "display_data"
    }
   ],
   "source": [
    "target = target_mulitvariate_normal(dim=5)\n",
    "\n",
    "# A grid search over dimension 1 and 2\n",
    "n1, n2 = 100, 100\n",
    "dim1 = np.linspace(4, -4, n1)\n",
    "dim2 = np.linspace(4, -4, n2)\n",
    "m = np.zeros((5, 1))\n",
    "dim1_v, dim2_v = np.meshgrid(dim1, dim2, sparse=False, indexing=\"ij\")\n",
    "misfit_v = np.empty_like(dim1_v)\n",
    "for i in range(n1):\n",
    "    for j in range(n2):\n",
    "        m[0] = dim1_v[i,j]\n",
    "        m[1] = dim2_v[i,j]\n",
    "        misfit_v[i,j] = target.misfit(m)\n",
    "plt.contourf(misfit_v, extent=[-4,4,-4,4])\n",
    "plt.gca().axis('square')\n",
    "plt.xlim([-4,4])\n",
    "plt.ylim([-4,4])\n",
    "plt.colorbar()"
   ]
  },
  {
   "cell_type": "markdown",
   "metadata": {},
   "source": [
    "### Sampling with an appropriate mass matrix"
   ]
  },
  {
   "cell_type": "code",
   "execution_count": 233,
   "metadata": {},
   "outputs": [],
   "source": [
    "m_init = np.zeros((5, 1)) + 1\n",
    "mass_matrix = np.eye(5)\n",
    "mass_matrix[1, 1] = 1\n",
    "mass_matrix[0, 1] = 0.0\n",
    "mass_matrix[1, 0] = 0.0"
   ]
  },
  {
   "cell_type": "code",
   "execution_count": 234,
   "metadata": {},
   "outputs": [
    {
     "name": "stderr",
     "output_type": "stream",
     "text": [
      "100%|██████████| 500/500 [00:00<00:00, 5248.98it/s]"
     ]
    },
    {
     "name": "stdout",
     "output_type": "stream",
     "text": [
      "496 accepted\n"
     ]
    },
    {
     "name": "stderr",
     "output_type": "stream",
     "text": [
      "\n"
     ]
    },
    {
     "data": {
      "text/plain": [
       "(array([[ 0.,  0.,  1.,  1.,  5.,  2.,  0.,  1.,  0.,  0.],\n",
       "        [ 1.,  0.,  0.,  0.,  5.,  6.,  5.,  2.,  0.,  0.],\n",
       "        [ 0.,  0.,  1.,  7.,  5., 17., 13.,  7.,  4.,  0.],\n",
       "        [ 1.,  1.,  2., 13., 21., 21., 18.,  8.,  5.,  1.],\n",
       "        [ 0.,  0.,  2., 13., 19., 32., 38., 19.,  8.,  1.],\n",
       "        [ 0.,  2.,  4.,  9., 16., 27., 23., 16.,  4.,  2.],\n",
       "        [ 0.,  1.,  1.,  7.,  7., 20.,  8., 12.,  2.,  2.],\n",
       "        [ 0.,  0.,  2.,  1.,  1.,  9.,  7.,  1.,  1.,  0.],\n",
       "        [ 0.,  0.,  0.,  0.,  1.,  0.,  2.,  3.,  1.,  1.],\n",
       "        [ 0.,  0.,  0.,  0.,  0.,  0.,  0.,  0.,  1.,  0.]]),\n",
       " array([-2.66493245, -2.09393472, -1.52293698, -0.95193925, -0.38094152,\n",
       "         0.19005622,  0.76105395,  1.33205168,  1.90304942,  2.47404715,\n",
       "         3.04504489]),\n",
       " array([-3.98945171, -3.30348329, -2.61751488, -1.93154646, -1.24557804,\n",
       "        -0.55960962,  0.1263588 ,  0.81232722,  1.49829564,  2.18426406,\n",
       "         2.87023248]),\n",
       " <matplotlib.collections.QuadMesh at 0x7fe19693f9b0>)"
      ]
     },
     "execution_count": 234,
     "metadata": {},
     "output_type": "execute_result"
    },
    {
     "data": {
      "image/png": "[encoded data removed]",
      "text/plain": [
       "<Figure size 1080x360 with 2 Axes>"
      ]
     },
     "metadata": {
      "needs_background": "light"
     },
     "output_type": "display_data"
    }
   ],
   "source": [
    "samples = sample(target, m_init, 10, 0.25, 500, mass_matrix)\n",
    "\n",
    "plt.figure(figsize=(15, 5))\n",
    "plt.subplot(121)\n",
    "plt.hist(samples[3, :], bins=10)\n",
    "plt.subplot(122)\n",
    "plt.hist2d(samples[0, :], samples[1, :])"
   ]
  },
  {
   "cell_type": "markdown",
   "metadata": {},
   "source": [
    "### Sampling with a operator mass matrix\n",
    "\n",
    "One interesting aspect of Hamiltonian Monte Carlo is in a slow convergence setting. When within the duration of sampling convergence is not attained, the choice of mass matrix **heavily** influences the resulting samples.\n",
    "\n",
    "What I do below is I use a mass matrix strongly correlated in dimension 1 and 2. I use this mass matrix in a Markov chain that has artificially slow convergence, *because I lowered the time step in HMC*. However, this is an analog for highly non-linear models, where we need a lot of small steps to conserve the Hamiltonian.\n",
    "\n",
    "The result is that **initially**, the models with this high correlation are explored. Even though our target is the same as the previous chain, the result is very different! We obviously not converged yet. \n",
    "\n",
    "This is of course a bad thing when it is done unconsciously. But, in an environment where we'd like explore a specific type of model first, e.g. smooth models, this is actually very helpful. We don't need to restrict the Bayesian inverse problem to smooth models using a prior, excluding all other possibilities. We just explore the smooth models relatively earlier in the process. The only thing we'd have to do is encode this requirement into the mass matrix.\n",
    "\n",
    "An interesting consequence of this is that for quadratic targets, if the mass matrix is similar to the posterior Hessian, convergence is achieved the fastest."
   ]
  },
  {
   "cell_type": "code",
   "execution_count": 235,
   "metadata": {},
   "outputs": [],
   "source": [
    "m_init = np.zeros((5, 1)) + 1\n",
    "correlated_mass_matrix = np.eye(5)\n",
    "correlated_mass_matrix[1, 1] = 1\n",
    "correlated_mass_matrix[0, 1] = 0.95  # Look here!\n",
    "correlated_mass_matrix[1, 0] = 0.95  # Look here!"
   ]
  },
  {
   "cell_type": "code",
   "execution_count": 236,
   "metadata": {},
   "outputs": [
    {
     "name": "stderr",
     "output_type": "stream",
     "text": [
      "100%|██████████| 500/500 [00:00<00:00, 5238.56it/s]\n"
     ]
    },
    {
     "name": "stdout",
     "output_type": "stream",
     "text": [
      "500 accepted\n"
     ]
    },
    {
     "data": {
      "image/png": "[encoded data removed]",
      "text/plain": [
       "<Figure size 1080x360 with 2 Axes>"
      ]
     },
     "metadata": {
      "needs_background": "light"
     },
     "output_type": "display_data"
    }
   ],
   "source": [
    "samples = sample(target, m_init, 10, 0.005, 500, correlated_mass_matrix)  # Important change in dt!!\n",
    "\n",
    "plt.figure(figsize=(15, 5))\n",
    "plt.subplot(121)\n",
    "plt.hist(samples[3, :], bins=10)\n",
    "plt.subplot(122)\n",
    "plt.hist2d(samples[0, :], samples[1, :]);"
   ]
  },
  {
   "cell_type": "markdown",
   "metadata": {},
   "source": [
    "What a strong **false** correlation!\n",
    "\n",
    "Of course, since we have not changed our target, in the limit of many samples, the result should be the same. And, if we do propose many samples, we end up with the same result:"
   ]
  },
  {
   "cell_type": "code",
   "execution_count": 237,
   "metadata": {},
   "outputs": [
    {
     "name": "stderr",
     "output_type": "stream",
     "text": [
      "100%|██████████| 50000/50000 [00:09<00:00, 5059.32it/s]\n"
     ]
    },
    {
     "name": "stdout",
     "output_type": "stream",
     "text": [
      "49999 accepted\n"
     ]
    },
    {
     "data": {
      "image/png": "[encoded data removed]",
      "text/plain": [
       "<Figure size 1080x360 with 2 Axes>"
      ]
     },
     "metadata": {
      "needs_background": "light"
     },
     "output_type": "display_data"
    }
   ],
   "source": [
    "samples = sample(target, m_init, 10, 0.005, 50000, correlated_mass_matrix)  # Important change in dt and ns!!\n",
    "\n",
    "plt.figure(figsize=(15, 5));\n",
    "plt.subplot(121);\n",
    "plt.hist(samples[3, :], bins=10);\n",
    "plt.subplot(122);\n",
    "plt.hist2d(samples[0, :], samples[1, :]);"
   ]
  },
  {
   "cell_type": "markdown",
   "metadata": {},
   "source": [
    "# Animation"
   ]
  },
  {
   "cell_type": "code",
   "execution_count": 60,
   "metadata": {},
   "outputs": [],
   "source": [
    "from IPython import display"
   ]
  },
  {
   "cell_type": "code",
   "execution_count": 97,
   "metadata": {},
   "outputs": [],
   "source": [
    "def sample_animated(\n",
    "    axis,\n",
    "    dim1,\n",
    "    dim2,\n",
    "    targetFunction,\n",
    "    grad,\n",
    "    initialModel,\n",
    "    nt,\n",
    "    dt,\n",
    "    ns,\n",
    "    mass_matrix,\n",
    "):\n",
    "\n",
    "    # Make sure the initial model is a column vector\n",
    "    assert initialModel.shape == (initialModel.size, 1)\n",
    "\n",
    "    # Create sample object\n",
    "    samples = np.empty((initialModel.size + 1, ns))\n",
    "\n",
    "    m = initialModel\n",
    "\n",
    "    print(ns)\n",
    "\n",
    "    accepted = 0\n",
    "\n",
    "    inv_mass = np.linalg.inv(mass_matrix)\n",
    "\n",
    "    current_point = None\n",
    "    lf_points = []\n",
    "\n",
    "    for i_sample in range(ns):\n",
    "\n",
    "        if current_point:\n",
    "            current_point.set_visible(False)\n",
    "            for point in lf_points:\n",
    "                point.set_visible(False)\n",
    "            lf_points = []\n",
    "\n",
    "        plt.scatter(m[dim1], m[dim2], color=\"k\", alpha=0.1)\n",
    "        current_point = plt.scatter(m[dim1], m[dim2], color=\"r\")\n",
    "\n",
    "        display.clear_output(wait=True)\n",
    "\n",
    "        display.display(plt.gcf())\n",
    "\n",
    "        p = np.random.multivariate_normal(np.zeros((m.size,)), mass_matrix, 1).T\n",
    "        \n",
    "        nt_local = int(np.random.uniform(low=0.5, high=1.5, size=None) * nt)\n",
    "        dt_local = np.random.uniform(low=0.5, high=1.5, size=None) * dt\n",
    "        \n",
    "        \n",
    "        # Compute initial misfit, kinetic energy and Hamiltonian\n",
    "        X = targetFunction(m)\n",
    "        K = 0.5 * (p.T @ (np.linalg.inv(mass_matrix) @ p)).item()\n",
    "        H = K + X\n",
    "\n",
    "        m_new = np.copy(m)\n",
    "        p_new = np.copy(p)\n",
    "\n",
    "        arrow = plt.quiver(\n",
    "                m_new[dim1],\n",
    "                m_new[dim2],\n",
    "                p_new[dim1],\n",
    "                p_new[dim2],\n",
    "                units=\"xy\",\n",
    "                minshaft=0,\n",
    "                scale=5,\n",
    "                minlength=0,\n",
    "                headlength=5./4.,\n",
    "                headaxislength=4.5/4.,\n",
    "                headwidth=3./4.,\n",
    "        )\n",
    "        arrowGrad = plt.quiver(\n",
    "                m_new[dim1],\n",
    "                m_new[dim2],\n",
    "                -grad(m_new)[dim1],\n",
    "                -grad(m_new)[dim2],\n",
    "                units=\"xy\",\n",
    "                minshaft=0,\n",
    "                scale=5,\n",
    "                minlength=0,\n",
    "                headlength=5./4.,\n",
    "                headaxislength=4.5/4.,\n",
    "                headwidth=3./4.,\n",
    "                color='red'\n",
    "            )\n",
    "        display.clear_output(wait=True)\n",
    "        display.display(plt.gcf())\n",
    "\n",
    "        p_new -= (dt_local / 2.0) * grad(m_new)\n",
    "\n",
    "        for i in range(nt_local - 1):\n",
    "            m_new += dt_local * inv_mass @ p_new\n",
    "\n",
    "            arrow.set_visible(False)\n",
    "            arrowGrad.set_visible(False)\n",
    "            lf_points.append(\n",
    "                plt.scatter(m_new[dim1], m_new[dim2], color=\"k\", marker=\"x\")\n",
    "            )\n",
    "            arrow = plt.quiver(\n",
    "                m_new[dim1],\n",
    "                m_new[dim2],\n",
    "                p_new[dim1],\n",
    "                p_new[dim2],\n",
    "                units=\"xy\",\n",
    "                minshaft=0,\n",
    "                scale=5,\n",
    "                minlength=0,\n",
    "                headlength=5./4.,\n",
    "                headaxislength=4.5/4.,\n",
    "                headwidth=3./4.,\n",
    "            )\n",
    "            arrowGrad = plt.quiver(\n",
    "                m_new[dim1],\n",
    "                m_new[dim2],\n",
    "                -grad(m_new)[dim1],\n",
    "                -grad(m_new)[dim2],\n",
    "                units=\"xy\",\n",
    "                minshaft=0,\n",
    "                scale=5,\n",
    "                minlength=0,\n",
    "                headlength=5./4.,\n",
    "                headaxislength=4.5/4.,\n",
    "                headwidth=3./4.,\n",
    "                color='red'\n",
    "            )\n",
    "            display.clear_output(wait=True)\n",
    "            display.display(plt.gcf())\n",
    "            p_new -= dt_local * grad(m_new)\n",
    "\n",
    "        m_new += dt_local * inv_mass @ p_new\n",
    "        lf_points.append(plt.scatter(m_new[dim1], m_new[dim2], color=\"k\", marker=\"x\"))\n",
    "        arrow.set_visible(False)\n",
    "        arrowGrad.set_visible(False)\n",
    "        display.clear_output(wait=True)\n",
    "        display.display(plt.gcf())\n",
    "        p_new -= (dt_local / 2.0) * grad(m_new)\n",
    "\n",
    "        X_new = targetFunction(m_new)\n",
    "        K_new = 0.5 * (p_new.T @ inv_mass @ p_new).item()\n",
    "        H_new = K_new + X_new\n",
    "\n",
    "        if np.exp(H - H_new) > np.random.uniform(low=0.0, high=1.0, size=None):\n",
    "            m = np.copy(m_new)\n",
    "            p = np.copy(p_new)\n",
    "\n",
    "            X = X_new\n",
    "            accepted += 1\n",
    "\n",
    "        samples[:-1, i_sample] = m[:, 0]\n",
    "        samples[-1, i_sample] = X\n",
    "\n",
    "    display.clear_output(wait=True)\n",
    "    print(\"%i accepted\" % accepted)\n",
    "    return samples"
   ]
  },
  {
   "cell_type": "code",
   "execution_count": 123,
   "metadata": {},
   "outputs": [
    {
     "ename": "KeyboardInterrupt",
     "evalue": "",
     "output_type": "error",
     "traceback": [
      "\u001b[0;31m---------------------------------------------------------------------------\u001b[0m",
      "\u001b[0;31mKeyboardInterrupt\u001b[0m                         Traceback (most recent call last)",
      "\u001b[0;32m<ipython-input-123-1be239e240ea>\u001b[0m in \u001b[0;36m<module>\u001b[0;34m\u001b[0m\n\u001b[1;32m     25\u001b[0m     \u001b[0;36m0.1\u001b[0m\u001b[0;34m,\u001b[0m\u001b[0;34m\u001b[0m\u001b[0;34m\u001b[0m\u001b[0m\n\u001b[1;32m     26\u001b[0m     \u001b[0;36m250\u001b[0m\u001b[0;34m,\u001b[0m\u001b[0;34m\u001b[0m\u001b[0;34m\u001b[0m\u001b[0m\n\u001b[0;32m---> 27\u001b[0;31m     \u001b[0mmass_matrix\u001b[0m\u001b[0;34m,\u001b[0m\u001b[0;34m\u001b[0m\u001b[0;34m\u001b[0m\u001b[0m\n\u001b[0m\u001b[1;32m     28\u001b[0m )\n",
      "\u001b[0;32m<ipython-input-97-810cf75fd5a1>\u001b[0m in \u001b[0;36msample_animated\u001b[0;34m(axis, dim1, dim2, targetFunction, grad, initialModel, nt, dt, ns, mass_matrix)\u001b[0m\n\u001b[1;32m     86\u001b[0m             )\n\u001b[1;32m     87\u001b[0m         \u001b[0mdisplay\u001b[0m\u001b[0;34m.\u001b[0m\u001b[0mclear_output\u001b[0m\u001b[0;34m(\u001b[0m\u001b[0mwait\u001b[0m\u001b[0;34m=\u001b[0m\u001b[0;32mTrue\u001b[0m\u001b[0;34m)\u001b[0m\u001b[0;34m\u001b[0m\u001b[0;34m\u001b[0m\u001b[0m\n\u001b[0;32m---> 88\u001b[0;31m         \u001b[0mdisplay\u001b[0m\u001b[0;34m.\u001b[0m\u001b[0mdisplay\u001b[0m\u001b[0;34m(\u001b[0m\u001b[0mplt\u001b[0m\u001b[0;34m.\u001b[0m\u001b[0mgcf\u001b[0m\u001b[0;34m(\u001b[0m\u001b[0;34m)\u001b[0m\u001b[0;34m)\u001b[0m\u001b[0;34m\u001b[0m\u001b[0;34m\u001b[0m\u001b[0m\n\u001b[0m\u001b[1;32m     89\u001b[0m \u001b[0;34m\u001b[0m\u001b[0m\n\u001b[1;32m     90\u001b[0m         \u001b[0mp_new\u001b[0m \u001b[0;34m-=\u001b[0m \u001b[0;34m(\u001b[0m\u001b[0mdt_local\u001b[0m \u001b[0;34m/\u001b[0m \u001b[0;36m2.0\u001b[0m\u001b[0;34m)\u001b[0m \u001b[0;34m*\u001b[0m \u001b[0mgrad\u001b[0m\u001b[0;34m(\u001b[0m\u001b[0mm_new\u001b[0m\u001b[0;34m)\u001b[0m\u001b[0;34m\u001b[0m\u001b[0;34m\u001b[0m\u001b[0m\n",
      "\u001b[0;32m~/Applications/Anaconda3/envs/hmc-demo/lib/python3.7/site-packages/IPython/core/display.py\u001b[0m in \u001b[0;36mdisplay\u001b[0;34m(include, exclude, metadata, transient, display_id, *objs, **kwargs)\u001b[0m\n\u001b[1;32m    304\u001b[0m             \u001b[0mpublish_display_data\u001b[0m\u001b[0;34m(\u001b[0m\u001b[0mdata\u001b[0m\u001b[0;34m=\u001b[0m\u001b[0mobj\u001b[0m\u001b[0;34m,\u001b[0m \u001b[0mmetadata\u001b[0m\u001b[0;34m=\u001b[0m\u001b[0mmetadata\u001b[0m\u001b[0;34m,\u001b[0m \u001b[0;34m**\u001b[0m\u001b[0mkwargs\u001b[0m\u001b[0;34m)\u001b[0m\u001b[0;34m\u001b[0m\u001b[0;34m\u001b[0m\u001b[0m\n\u001b[1;32m    305\u001b[0m         \u001b[0;32melse\u001b[0m\u001b[0;34m:\u001b[0m\u001b[0;34m\u001b[0m\u001b[0;34m\u001b[0m\u001b[0m\n\u001b[0;32m--> 306\u001b[0;31m             \u001b[0mformat_dict\u001b[0m\u001b[0;34m,\u001b[0m \u001b[0mmd_dict\u001b[0m \u001b[0;34m=\u001b[0m \u001b[0mformat\u001b[0m\u001b[0;34m(\u001b[0m\u001b[0mobj\u001b[0m\u001b[0;34m,\u001b[0m \u001b[0minclude\u001b[0m\u001b[0;34m=\u001b[0m\u001b[0minclude\u001b[0m\u001b[0;34m,\u001b[0m \u001b[0mexclude\u001b[0m\u001b[0;34m=\u001b[0m\u001b[0mexclude\u001b[0m\u001b[0;34m)\u001b[0m\u001b[0;34m\u001b[0m\u001b[0;34m\u001b[0m\u001b[0m\n\u001b[0m\u001b[1;32m    307\u001b[0m             \u001b[0;32mif\u001b[0m \u001b[0;32mnot\u001b[0m \u001b[0mformat_dict\u001b[0m\u001b[0;34m:\u001b[0m\u001b[0;34m\u001b[0m\u001b[0;34m\u001b[0m\u001b[0m\n\u001b[1;32m    308\u001b[0m                 \u001b[0;31m# nothing to display (e.g. _ipython_display_ took over)\u001b[0m\u001b[0;34m\u001b[0m\u001b[0;34m\u001b[0m\u001b[0;34m\u001b[0m\u001b[0m\n",
      "\u001b[0;32m~/Applications/Anaconda3/envs/hmc-demo/lib/python3.7/site-packages/IPython/core/formatters.py\u001b[0m in \u001b[0;36mformat\u001b[0;34m(self, obj, include, exclude)\u001b[0m\n\u001b[1;32m    178\u001b[0m             \u001b[0mmd\u001b[0m \u001b[0;34m=\u001b[0m \u001b[0;32mNone\u001b[0m\u001b[0;34m\u001b[0m\u001b[0;34m\u001b[0m\u001b[0m\n\u001b[1;32m    179\u001b[0m             \u001b[0;32mtry\u001b[0m\u001b[0;34m:\u001b[0m\u001b[0;34m\u001b[0m\u001b[0;34m\u001b[0m\u001b[0m\n\u001b[0;32m--> 180\u001b[0;31m                 \u001b[0mdata\u001b[0m \u001b[0;34m=\u001b[0m \u001b[0mformatter\u001b[0m\u001b[0;34m(\u001b[0m\u001b[0mobj\u001b[0m\u001b[0;34m)\u001b[0m\u001b[0;34m\u001b[0m\u001b[0;34m\u001b[0m\u001b[0m\n\u001b[0m\u001b[1;32m    181\u001b[0m             \u001b[0;32mexcept\u001b[0m\u001b[0;34m:\u001b[0m\u001b[0;34m\u001b[0m\u001b[0;34m\u001b[0m\u001b[0m\n\u001b[1;32m    182\u001b[0m                 \u001b[0;31m# FIXME: log the exception\u001b[0m\u001b[0;34m\u001b[0m\u001b[0;34m\u001b[0m\u001b[0;34m\u001b[0m\u001b[0m\n",
      "\u001b[0;32m</home/larsgebraad/.local/lib/python3.7/site-packages/decorator.py:decorator-gen-9>\u001b[0m in \u001b[0;36m__call__\u001b[0;34m(self, obj)\u001b[0m\n",
      "\u001b[0;32m~/Applications/Anaconda3/envs/hmc-demo/lib/python3.7/site-packages/IPython/core/formatters.py\u001b[0m in \u001b[0;36mcatch_format_error\u001b[0;34m(method, self, *args, **kwargs)\u001b[0m\n\u001b[1;32m    222\u001b[0m     \u001b[0;34m\"\"\"show traceback on failed format call\"\"\"\u001b[0m\u001b[0;34m\u001b[0m\u001b[0;34m\u001b[0m\u001b[0m\n\u001b[1;32m    223\u001b[0m     \u001b[0;32mtry\u001b[0m\u001b[0;34m:\u001b[0m\u001b[0;34m\u001b[0m\u001b[0;34m\u001b[0m\u001b[0m\n\u001b[0;32m--> 224\u001b[0;31m         \u001b[0mr\u001b[0m \u001b[0;34m=\u001b[0m \u001b[0mmethod\u001b[0m\u001b[0;34m(\u001b[0m\u001b[0mself\u001b[0m\u001b[0;34m,\u001b[0m \u001b[0;34m*\u001b[0m\u001b[0margs\u001b[0m\u001b[0;34m,\u001b[0m \u001b[0;34m**\u001b[0m\u001b[0mkwargs\u001b[0m\u001b[0;34m)\u001b[0m\u001b[0;34m\u001b[0m\u001b[0;34m\u001b[0m\u001b[0m\n\u001b[0m\u001b[1;32m    225\u001b[0m     \u001b[0;32mexcept\u001b[0m \u001b[0mNotImplementedError\u001b[0m\u001b[0;34m:\u001b[0m\u001b[0;34m\u001b[0m\u001b[0;34m\u001b[0m\u001b[0m\n\u001b[1;32m    226\u001b[0m         \u001b[0;31m# don't warn on NotImplementedErrors\u001b[0m\u001b[0;34m\u001b[0m\u001b[0;34m\u001b[0m\u001b[0;34m\u001b[0m\u001b[0m\n",
      "\u001b[0;32m~/Applications/Anaconda3/envs/hmc-demo/lib/python3.7/site-packages/IPython/core/formatters.py\u001b[0m in \u001b[0;36m__call__\u001b[0;34m(self, obj)\u001b[0m\n\u001b[1;32m    339\u001b[0m                 \u001b[0;32mpass\u001b[0m\u001b[0;34m\u001b[0m\u001b[0;34m\u001b[0m\u001b[0m\n\u001b[1;32m    340\u001b[0m             \u001b[0;32melse\u001b[0m\u001b[0;34m:\u001b[0m\u001b[0;34m\u001b[0m\u001b[0;34m\u001b[0m\u001b[0m\n\u001b[0;32m--> 341\u001b[0;31m                 \u001b[0;32mreturn\u001b[0m \u001b[0mprinter\u001b[0m\u001b[0;34m(\u001b[0m\u001b[0mobj\u001b[0m\u001b[0;34m)\u001b[0m\u001b[0;34m\u001b[0m\u001b[0;34m\u001b[0m\u001b[0m\n\u001b[0m\u001b[1;32m    342\u001b[0m             \u001b[0;31m# Finally look for special method names\u001b[0m\u001b[0;34m\u001b[0m\u001b[0;34m\u001b[0m\u001b[0;34m\u001b[0m\u001b[0m\n\u001b[1;32m    343\u001b[0m             \u001b[0mmethod\u001b[0m \u001b[0;34m=\u001b[0m \u001b[0mget_real_method\u001b[0m\u001b[0;34m(\u001b[0m\u001b[0mobj\u001b[0m\u001b[0;34m,\u001b[0m \u001b[0mself\u001b[0m\u001b[0;34m.\u001b[0m\u001b[0mprint_method\u001b[0m\u001b[0;34m)\u001b[0m\u001b[0;34m\u001b[0m\u001b[0;34m\u001b[0m\u001b[0m\n",
      "\u001b[0;32m~/Applications/Anaconda3/envs/hmc-demo/lib/python3.7/site-packages/IPython/core/pylabtools.py\u001b[0m in \u001b[0;36m<lambda>\u001b[0;34m(fig)\u001b[0m\n\u001b[1;32m    242\u001b[0m \u001b[0;34m\u001b[0m\u001b[0m\n\u001b[1;32m    243\u001b[0m     \u001b[0;32mif\u001b[0m \u001b[0;34m'png'\u001b[0m \u001b[0;32min\u001b[0m \u001b[0mformats\u001b[0m\u001b[0;34m:\u001b[0m\u001b[0;34m\u001b[0m\u001b[0;34m\u001b[0m\u001b[0m\n\u001b[0;32m--> 244\u001b[0;31m         \u001b[0mpng_formatter\u001b[0m\u001b[0;34m.\u001b[0m\u001b[0mfor_type\u001b[0m\u001b[0;34m(\u001b[0m\u001b[0mFigure\u001b[0m\u001b[0;34m,\u001b[0m \u001b[0;32mlambda\u001b[0m \u001b[0mfig\u001b[0m\u001b[0;34m:\u001b[0m \u001b[0mprint_figure\u001b[0m\u001b[0;34m(\u001b[0m\u001b[0mfig\u001b[0m\u001b[0;34m,\u001b[0m \u001b[0;34m'png'\u001b[0m\u001b[0;34m,\u001b[0m \u001b[0;34m**\u001b[0m\u001b[0mkwargs\u001b[0m\u001b[0;34m)\u001b[0m\u001b[0;34m)\u001b[0m\u001b[0;34m\u001b[0m\u001b[0;34m\u001b[0m\u001b[0m\n\u001b[0m\u001b[1;32m    245\u001b[0m     \u001b[0;32mif\u001b[0m \u001b[0;34m'retina'\u001b[0m \u001b[0;32min\u001b[0m \u001b[0mformats\u001b[0m \u001b[0;32mor\u001b[0m \u001b[0;34m'png2x'\u001b[0m \u001b[0;32min\u001b[0m \u001b[0mformats\u001b[0m\u001b[0;34m:\u001b[0m\u001b[0;34m\u001b[0m\u001b[0;34m\u001b[0m\u001b[0m\n\u001b[1;32m    246\u001b[0m         \u001b[0mpng_formatter\u001b[0m\u001b[0;34m.\u001b[0m\u001b[0mfor_type\u001b[0m\u001b[0;34m(\u001b[0m\u001b[0mFigure\u001b[0m\u001b[0;34m,\u001b[0m \u001b[0;32mlambda\u001b[0m \u001b[0mfig\u001b[0m\u001b[0;34m:\u001b[0m \u001b[0mretina_figure\u001b[0m\u001b[0;34m(\u001b[0m\u001b[0mfig\u001b[0m\u001b[0;34m,\u001b[0m \u001b[0;34m**\u001b[0m\u001b[0mkwargs\u001b[0m\u001b[0;34m)\u001b[0m\u001b[0;34m)\u001b[0m\u001b[0;34m\u001b[0m\u001b[0;34m\u001b[0m\u001b[0m\n",
      "\u001b[0;32m~/Applications/Anaconda3/envs/hmc-demo/lib/python3.7/site-packages/IPython/core/pylabtools.py\u001b[0m in \u001b[0;36mprint_figure\u001b[0;34m(fig, fmt, bbox_inches, **kwargs)\u001b[0m\n\u001b[1;32m    126\u001b[0m \u001b[0;34m\u001b[0m\u001b[0m\n\u001b[1;32m    127\u001b[0m     \u001b[0mbytes_io\u001b[0m \u001b[0;34m=\u001b[0m \u001b[0mBytesIO\u001b[0m\u001b[0;34m(\u001b[0m\u001b[0;34m)\u001b[0m\u001b[0;34m\u001b[0m\u001b[0;34m\u001b[0m\u001b[0m\n\u001b[0;32m--> 128\u001b[0;31m     \u001b[0mfig\u001b[0m\u001b[0;34m.\u001b[0m\u001b[0mcanvas\u001b[0m\u001b[0;34m.\u001b[0m\u001b[0mprint_figure\u001b[0m\u001b[0;34m(\u001b[0m\u001b[0mbytes_io\u001b[0m\u001b[0;34m,\u001b[0m \u001b[0;34m**\u001b[0m\u001b[0mkw\u001b[0m\u001b[0;34m)\u001b[0m\u001b[0;34m\u001b[0m\u001b[0;34m\u001b[0m\u001b[0m\n\u001b[0m\u001b[1;32m    129\u001b[0m     \u001b[0mdata\u001b[0m \u001b[0;34m=\u001b[0m \u001b[0mbytes_io\u001b[0m\u001b[0;34m.\u001b[0m\u001b[0mgetvalue\u001b[0m\u001b[0;34m(\u001b[0m\u001b[0;34m)\u001b[0m\u001b[0;34m\u001b[0m\u001b[0;34m\u001b[0m\u001b[0m\n\u001b[1;32m    130\u001b[0m     \u001b[0;32mif\u001b[0m \u001b[0mfmt\u001b[0m \u001b[0;34m==\u001b[0m \u001b[0;34m'svg'\u001b[0m\u001b[0;34m:\u001b[0m\u001b[0;34m\u001b[0m\u001b[0;34m\u001b[0m\u001b[0m\n",
      "\u001b[0;32m~/.local/lib/python3.7/site-packages/matplotlib/backend_bases.py\u001b[0m in \u001b[0;36mprint_figure\u001b[0;34m(self, filename, dpi, facecolor, edgecolor, orientation, format, bbox_inches, **kwargs)\u001b[0m\n\u001b[1;32m   2058\u001b[0m                     \u001b[0mbbox_artists\u001b[0m \u001b[0;34m=\u001b[0m \u001b[0mkwargs\u001b[0m\u001b[0;34m.\u001b[0m\u001b[0mpop\u001b[0m\u001b[0;34m(\u001b[0m\u001b[0;34m\"bbox_extra_artists\"\u001b[0m\u001b[0;34m,\u001b[0m \u001b[0;32mNone\u001b[0m\u001b[0;34m)\u001b[0m\u001b[0;34m\u001b[0m\u001b[0;34m\u001b[0m\u001b[0m\n\u001b[1;32m   2059\u001b[0m                     bbox_inches = self.figure.get_tightbbox(renderer,\n\u001b[0;32m-> 2060\u001b[0;31m                             bbox_extra_artists=bbox_artists)\n\u001b[0m\u001b[1;32m   2061\u001b[0m                     \u001b[0mpad\u001b[0m \u001b[0;34m=\u001b[0m \u001b[0mkwargs\u001b[0m\u001b[0;34m.\u001b[0m\u001b[0mpop\u001b[0m\u001b[0;34m(\u001b[0m\u001b[0;34m\"pad_inches\"\u001b[0m\u001b[0;34m,\u001b[0m \u001b[0;32mNone\u001b[0m\u001b[0;34m)\u001b[0m\u001b[0;34m\u001b[0m\u001b[0;34m\u001b[0m\u001b[0m\n\u001b[1;32m   2062\u001b[0m                     \u001b[0;32mif\u001b[0m \u001b[0mpad\u001b[0m \u001b[0;32mis\u001b[0m \u001b[0;32mNone\u001b[0m\u001b[0;34m:\u001b[0m\u001b[0;34m\u001b[0m\u001b[0;34m\u001b[0m\u001b[0m\n",
      "\u001b[0;32m~/.local/lib/python3.7/site-packages/matplotlib/figure.py\u001b[0m in \u001b[0;36mget_tightbbox\u001b[0;34m(self, renderer, bbox_extra_artists)\u001b[0m\n\u001b[1;32m   2364\u001b[0m \u001b[0;34m\u001b[0m\u001b[0m\n\u001b[1;32m   2365\u001b[0m         \u001b[0;32mfor\u001b[0m \u001b[0ma\u001b[0m \u001b[0;32min\u001b[0m \u001b[0martists\u001b[0m\u001b[0;34m:\u001b[0m\u001b[0;34m\u001b[0m\u001b[0;34m\u001b[0m\u001b[0m\n\u001b[0;32m-> 2366\u001b[0;31m             \u001b[0mbbox\u001b[0m \u001b[0;34m=\u001b[0m \u001b[0ma\u001b[0m\u001b[0;34m.\u001b[0m\u001b[0mget_tightbbox\u001b[0m\u001b[0;34m(\u001b[0m\u001b[0mrenderer\u001b[0m\u001b[0;34m)\u001b[0m\u001b[0;34m\u001b[0m\u001b[0;34m\u001b[0m\u001b[0m\n\u001b[0m\u001b[1;32m   2367\u001b[0m             \u001b[0;32mif\u001b[0m \u001b[0mbbox\u001b[0m \u001b[0;32mis\u001b[0m \u001b[0;32mnot\u001b[0m \u001b[0;32mNone\u001b[0m \u001b[0;32mand\u001b[0m \u001b[0;34m(\u001b[0m\u001b[0mbbox\u001b[0m\u001b[0;34m.\u001b[0m\u001b[0mwidth\u001b[0m \u001b[0;34m!=\u001b[0m \u001b[0;36m0\u001b[0m \u001b[0;32mor\u001b[0m \u001b[0mbbox\u001b[0m\u001b[0;34m.\u001b[0m\u001b[0mheight\u001b[0m \u001b[0;34m!=\u001b[0m \u001b[0;36m0\u001b[0m\u001b[0;34m)\u001b[0m\u001b[0;34m:\u001b[0m\u001b[0;34m\u001b[0m\u001b[0;34m\u001b[0m\u001b[0m\n\u001b[1;32m   2368\u001b[0m                 \u001b[0mbb\u001b[0m\u001b[0;34m.\u001b[0m\u001b[0mappend\u001b[0m\u001b[0;34m(\u001b[0m\u001b[0mbbox\u001b[0m\u001b[0;34m)\u001b[0m\u001b[0;34m\u001b[0m\u001b[0;34m\u001b[0m\u001b[0m\n",
      "\u001b[0;32m~/.local/lib/python3.7/site-packages/matplotlib/axes/_base.py\u001b[0m in \u001b[0;36mget_tightbbox\u001b[0;34m(self, renderer, call_axes_locator, bbox_extra_artists)\u001b[0m\n\u001b[1;32m   4372\u001b[0m \u001b[0;34m\u001b[0m\u001b[0m\n\u001b[1;32m   4373\u001b[0m         \u001b[0;32mfor\u001b[0m \u001b[0ma\u001b[0m \u001b[0;32min\u001b[0m \u001b[0mbbox_artists\u001b[0m\u001b[0;34m:\u001b[0m\u001b[0;34m\u001b[0m\u001b[0;34m\u001b[0m\u001b[0m\n\u001b[0;32m-> 4374\u001b[0;31m             \u001b[0mbbox\u001b[0m \u001b[0;34m=\u001b[0m \u001b[0ma\u001b[0m\u001b[0;34m.\u001b[0m\u001b[0mget_tightbbox\u001b[0m\u001b[0;34m(\u001b[0m\u001b[0mrenderer\u001b[0m\u001b[0;34m)\u001b[0m\u001b[0;34m\u001b[0m\u001b[0;34m\u001b[0m\u001b[0m\n\u001b[0m\u001b[1;32m   4375\u001b[0m             if (bbox is not None\n\u001b[1;32m   4376\u001b[0m                     \u001b[0;32mand\u001b[0m \u001b[0;36m0\u001b[0m \u001b[0;34m<\u001b[0m \u001b[0mbbox\u001b[0m\u001b[0;34m.\u001b[0m\u001b[0mwidth\u001b[0m \u001b[0;34m<\u001b[0m \u001b[0mnp\u001b[0m\u001b[0;34m.\u001b[0m\u001b[0minf\u001b[0m\u001b[0;34m\u001b[0m\u001b[0;34m\u001b[0m\u001b[0m\n",
      "\u001b[0;32m~/.local/lib/python3.7/site-packages/matplotlib/artist.py\u001b[0m in \u001b[0;36mget_tightbbox\u001b[0;34m(self, renderer)\u001b[0m\n\u001b[1;32m    269\u001b[0m             \u001b[0mclip_box\u001b[0m \u001b[0;34m=\u001b[0m \u001b[0mself\u001b[0m\u001b[0;34m.\u001b[0m\u001b[0mget_clip_box\u001b[0m\u001b[0;34m(\u001b[0m\u001b[0;34m)\u001b[0m\u001b[0;34m\u001b[0m\u001b[0;34m\u001b[0m\u001b[0m\n\u001b[1;32m    270\u001b[0m             \u001b[0;32mif\u001b[0m \u001b[0mclip_box\u001b[0m \u001b[0;32mis\u001b[0m \u001b[0;32mnot\u001b[0m \u001b[0;32mNone\u001b[0m\u001b[0;34m:\u001b[0m\u001b[0;34m\u001b[0m\u001b[0;34m\u001b[0m\u001b[0m\n\u001b[0;32m--> 271\u001b[0;31m                 \u001b[0mbbox\u001b[0m \u001b[0;34m=\u001b[0m \u001b[0mBbox\u001b[0m\u001b[0;34m.\u001b[0m\u001b[0mintersection\u001b[0m\u001b[0;34m(\u001b[0m\u001b[0mbbox\u001b[0m\u001b[0;34m,\u001b[0m \u001b[0mclip_box\u001b[0m\u001b[0;34m)\u001b[0m\u001b[0;34m\u001b[0m\u001b[0;34m\u001b[0m\u001b[0m\n\u001b[0m\u001b[1;32m    272\u001b[0m             \u001b[0mclip_path\u001b[0m \u001b[0;34m=\u001b[0m \u001b[0mself\u001b[0m\u001b[0;34m.\u001b[0m\u001b[0mget_clip_path\u001b[0m\u001b[0;34m(\u001b[0m\u001b[0;34m)\u001b[0m\u001b[0;34m\u001b[0m\u001b[0;34m\u001b[0m\u001b[0m\n\u001b[1;32m    273\u001b[0m             \u001b[0;32mif\u001b[0m \u001b[0mclip_path\u001b[0m \u001b[0;32mis\u001b[0m \u001b[0;32mnot\u001b[0m \u001b[0;32mNone\u001b[0m \u001b[0;32mand\u001b[0m \u001b[0mbbox\u001b[0m \u001b[0;32mis\u001b[0m \u001b[0;32mnot\u001b[0m \u001b[0;32mNone\u001b[0m\u001b[0;34m:\u001b[0m\u001b[0;34m\u001b[0m\u001b[0;34m\u001b[0m\u001b[0m\n",
      "\u001b[0;32m~/.local/lib/python3.7/site-packages/matplotlib/transforms.py\u001b[0m in \u001b[0;36mintersection\u001b[0;34m(bbox1, bbox2)\u001b[0m\n\u001b[1;32m    716\u001b[0m         \u001b[0my0\u001b[0m \u001b[0;34m=\u001b[0m \u001b[0mnp\u001b[0m\u001b[0;34m.\u001b[0m\u001b[0mmaximum\u001b[0m\u001b[0;34m(\u001b[0m\u001b[0mbbox1\u001b[0m\u001b[0;34m.\u001b[0m\u001b[0mymin\u001b[0m\u001b[0;34m,\u001b[0m \u001b[0mbbox2\u001b[0m\u001b[0;34m.\u001b[0m\u001b[0mymin\u001b[0m\u001b[0;34m)\u001b[0m\u001b[0;34m\u001b[0m\u001b[0;34m\u001b[0m\u001b[0m\n\u001b[1;32m    717\u001b[0m         \u001b[0my1\u001b[0m \u001b[0;34m=\u001b[0m \u001b[0mnp\u001b[0m\u001b[0;34m.\u001b[0m\u001b[0mminimum\u001b[0m\u001b[0;34m(\u001b[0m\u001b[0mbbox1\u001b[0m\u001b[0;34m.\u001b[0m\u001b[0mymax\u001b[0m\u001b[0;34m,\u001b[0m \u001b[0mbbox2\u001b[0m\u001b[0;34m.\u001b[0m\u001b[0mymax\u001b[0m\u001b[0;34m)\u001b[0m\u001b[0;34m\u001b[0m\u001b[0;34m\u001b[0m\u001b[0m\n\u001b[0;32m--> 718\u001b[0;31m         \u001b[0;32mreturn\u001b[0m \u001b[0mBbox\u001b[0m\u001b[0;34m(\u001b[0m\u001b[0;34m[\u001b[0m\u001b[0;34m[\u001b[0m\u001b[0mx0\u001b[0m\u001b[0;34m,\u001b[0m \u001b[0my0\u001b[0m\u001b[0;34m]\u001b[0m\u001b[0;34m,\u001b[0m \u001b[0;34m[\u001b[0m\u001b[0mx1\u001b[0m\u001b[0;34m,\u001b[0m \u001b[0my1\u001b[0m\u001b[0;34m]\u001b[0m\u001b[0;34m]\u001b[0m\u001b[0;34m)\u001b[0m \u001b[0;32mif\u001b[0m \u001b[0mx0\u001b[0m \u001b[0;34m<=\u001b[0m \u001b[0mx1\u001b[0m \u001b[0;32mand\u001b[0m \u001b[0my0\u001b[0m \u001b[0;34m<=\u001b[0m \u001b[0my1\u001b[0m \u001b[0;32melse\u001b[0m \u001b[0;32mNone\u001b[0m\u001b[0;34m\u001b[0m\u001b[0;34m\u001b[0m\u001b[0m\n\u001b[0m\u001b[1;32m    719\u001b[0m \u001b[0;34m\u001b[0m\u001b[0m\n\u001b[1;32m    720\u001b[0m \u001b[0;34m\u001b[0m\u001b[0m\n",
      "\u001b[0;32m~/.local/lib/python3.7/site-packages/matplotlib/transforms.py\u001b[0m in \u001b[0;36m__init__\u001b[0;34m(self, points, **kwargs)\u001b[0m\n\u001b[1;32m    738\u001b[0m         \"\"\"\n\u001b[1;32m    739\u001b[0m         \u001b[0mBboxBase\u001b[0m\u001b[0;34m.\u001b[0m\u001b[0m__init__\u001b[0m\u001b[0;34m(\u001b[0m\u001b[0mself\u001b[0m\u001b[0;34m,\u001b[0m \u001b[0;34m**\u001b[0m\u001b[0mkwargs\u001b[0m\u001b[0;34m)\u001b[0m\u001b[0;34m\u001b[0m\u001b[0;34m\u001b[0m\u001b[0m\n\u001b[0;32m--> 740\u001b[0;31m         \u001b[0mpoints\u001b[0m \u001b[0;34m=\u001b[0m \u001b[0mnp\u001b[0m\u001b[0;34m.\u001b[0m\u001b[0masarray\u001b[0m\u001b[0;34m(\u001b[0m\u001b[0mpoints\u001b[0m\u001b[0;34m,\u001b[0m \u001b[0mfloat\u001b[0m\u001b[0;34m)\u001b[0m\u001b[0;34m\u001b[0m\u001b[0;34m\u001b[0m\u001b[0m\n\u001b[0m\u001b[1;32m    741\u001b[0m         \u001b[0;32mif\u001b[0m \u001b[0mpoints\u001b[0m\u001b[0;34m.\u001b[0m\u001b[0mshape\u001b[0m \u001b[0;34m!=\u001b[0m \u001b[0;34m(\u001b[0m\u001b[0;36m2\u001b[0m\u001b[0;34m,\u001b[0m \u001b[0;36m2\u001b[0m\u001b[0;34m)\u001b[0m\u001b[0;34m:\u001b[0m\u001b[0;34m\u001b[0m\u001b[0;34m\u001b[0m\u001b[0m\n\u001b[1;32m    742\u001b[0m             raise ValueError('Bbox points must be of the form '\n",
      "\u001b[0;32m~/Applications/Anaconda3/envs/hmc-demo/lib/python3.7/site-packages/numpy/core/_asarray.py\u001b[0m in \u001b[0;36masarray\u001b[0;34m(a, dtype, order)\u001b[0m\n\u001b[1;32m     83\u001b[0m \u001b[0;34m\u001b[0m\u001b[0m\n\u001b[1;32m     84\u001b[0m     \"\"\"\n\u001b[0;32m---> 85\u001b[0;31m     \u001b[0;32mreturn\u001b[0m \u001b[0marray\u001b[0m\u001b[0;34m(\u001b[0m\u001b[0ma\u001b[0m\u001b[0;34m,\u001b[0m \u001b[0mdtype\u001b[0m\u001b[0;34m,\u001b[0m \u001b[0mcopy\u001b[0m\u001b[0;34m=\u001b[0m\u001b[0;32mFalse\u001b[0m\u001b[0;34m,\u001b[0m \u001b[0morder\u001b[0m\u001b[0;34m=\u001b[0m\u001b[0morder\u001b[0m\u001b[0;34m)\u001b[0m\u001b[0;34m\u001b[0m\u001b[0;34m\u001b[0m\u001b[0m\n\u001b[0m\u001b[1;32m     86\u001b[0m \u001b[0;34m\u001b[0m\u001b[0m\n\u001b[1;32m     87\u001b[0m \u001b[0;34m\u001b[0m\u001b[0m\n",
      "\u001b[0;31mKeyboardInterrupt\u001b[0m: "
     ]
    },
    {
     "data": {
      "image/png": "[encoded data removed]",
      "text/plain": [
       "<Figure size 720x720 with 1 Axes>"
      ]
     },
     "metadata": {
      "needs_background": "light"
     },
     "output_type": "display_data"
    }
   ],
   "source": [
    "m_init = np.zeros((5, 1)) \n",
    "\n",
    "mass_matrix = np.eye(5) \n",
    "mass_matrix[1,1] = 1\n",
    "mass_matrix[0,1] = 0.9\n",
    "mass_matrix[1,0] = 0.9\n",
    "\n",
    "fig = plt.figure(figsize=(10,10))\n",
    "axis = plt.gca()\n",
    "dim1 = 0\n",
    "dim2 = 1\n",
    "\n",
    "axis.set_xlim([-5,5])\n",
    "axis.set_ylim([-5,5])\n",
    "axis.set_aspect(\"equal\")\n",
    "\n",
    "samples = sample_animated(\n",
    "    axis,\n",
    "    dim1,\n",
    "    dim2,\n",
    "    misfit_mvn_target,\n",
    "    grad_mvn_target,\n",
    "    m_init,\n",
    "    2,\n",
    "    0.1,\n",
    "    250,\n",
    "    mass_matrix,\n",
    ")"
   ]
  },
  {
   "cell_type": "code",
   "execution_count": null,
   "metadata": {},
   "outputs": [],
   "source": []
  }
 ],
 "metadata": {
  "kernelspec": {
   "display_name": "Python 3",
   "language": "python",
   "name": "python3"
  },
  "language_info": {
   "codemirror_mode": {
    "name": "ipython",
    "version": 3
   },
   "file_extension": ".py",
   "mimetype": "text/x-python",
   "name": "python",
   "nbconvert_exporter": "python",
   "pygments_lexer": "ipython3",
   "version": "3.7.3"
  }
 },
 "nbformat": 4,
 "nbformat_minor": 2
}
